{
  "nbformat": 4,
  "nbformat_minor": 0,
  "metadata": {
    "colab": {
      "name": "(LSTM) Fake News Prediction .ipynb",
      "provenance": [],
      "collapsed_sections": []
    },
    "kernelspec": {
      "name": "python3",
      "display_name": "Python 3"
    },
    "language_info": {
      "name": "python"
    }
  },
  "cells": [
    {
      "cell_type": "markdown",
      "metadata": {
        "id": "bo9-lYRlgHK3"
      },
      "source": [
        "**AIM:** Predict Fake News using  LSTM\n"
      ]
    },
    {
      "cell_type": "markdown",
      "metadata": {
        "id": "rFuyCsYZhQzH"
      },
      "source": [
        "mount to google drive"
      ]
    },
    {
      "cell_type": "code",
      "metadata": {
        "colab": {
          "base_uri": "https://localhost:8080/"
        },
        "id": "WW6uaKXfhP8L",
        "outputId": "34c20499-cd24-444a-a95c-7438b1ef719c"
      },
      "source": [
        "from google.colab import drive\n",
        "drive.mount(\"/content/drive\")"
      ],
      "execution_count": null,
      "outputs": [
        {
          "output_type": "stream",
          "text": [
            "Mounted at /content/drive\n"
          ],
          "name": "stdout"
        }
      ]
    },
    {
      "cell_type": "markdown",
      "metadata": {
        "id": "r1pTT4EChLA5"
      },
      "source": [
        "import libraries"
      ]
    },
    {
      "cell_type": "code",
      "metadata": {
        "id": "Yu69NxDBdqH7",
        "colab": {
          "base_uri": "https://localhost:8080/"
        },
        "outputId": "709446eb-f62f-4a2e-b638-8435c7b47ac0"
      },
      "source": [
        "import pandas as pd\n",
        "import numpy as np\n",
        "import nltk\n",
        "import re\n",
        "from nltk.corpus import stopwords\n",
        "from nltk.stem.porter import PorterStemmer\n",
        "nltk.download('stopwords')\n",
        "from tensorflow.keras.layers import Embedding\n",
        "from tensorflow.keras.preprocessing.sequence import pad_sequences\n",
        "from tensorflow.keras.models import Sequential\n",
        "from tensorflow.keras.preprocessing.text import one_hot\n",
        "from tensorflow.keras.layers import LSTM\n",
        "from tensorflow.keras.layers import Dense\n",
        "from sklearn.model_selection import train_test_split\n",
        "from sklearn.metrics import accuracy_score\n",
        "from sklearn.metrics import confusion_matrix\n",
        "from tensorflow.keras.layers import Dropout"
      ],
      "execution_count": null,
      "outputs": [
        {
          "output_type": "stream",
          "text": [
            "[nltk_data] Downloading package stopwords to /root/nltk_data...\n",
            "[nltk_data]   Package stopwords is already up-to-date!\n"
          ],
          "name": "stdout"
        }
      ]
    },
    {
      "cell_type": "markdown",
      "metadata": {
        "id": "j3ZrXdL8hlpe"
      },
      "source": [
        "load data"
      ]
    },
    {
      "cell_type": "code",
      "metadata": {
        "id": "JlQ10qo-hKDC"
      },
      "source": [
        "df = pd.read_csv('/content/drive/MyDrive/datascience_file/fake-news.csv')"
      ],
      "execution_count": null,
      "outputs": []
    },
    {
      "cell_type": "markdown",
      "metadata": {
        "id": "xqcNX13KhyTh"
      },
      "source": [
        "Explore data"
      ]
    },
    {
      "cell_type": "code",
      "metadata": {
        "colab": {
          "base_uri": "https://localhost:8080/",
          "height": 204
        },
        "id": "C2upwomNhvcz",
        "outputId": "937dae28-29b2-4e01-a778-0b7303edee42"
      },
      "source": [
        "#check the first 5\n",
        "df.head()"
      ],
      "execution_count": null,
      "outputs": [
        {
          "output_type": "execute_result",
          "data": {
            "text/html": [
              "<div>\n",
              "<style scoped>\n",
              "    .dataframe tbody tr th:only-of-type {\n",
              "        vertical-align: middle;\n",
              "    }\n",
              "\n",
              "    .dataframe tbody tr th {\n",
              "        vertical-align: top;\n",
              "    }\n",
              "\n",
              "    .dataframe thead th {\n",
              "        text-align: right;\n",
              "    }\n",
              "</style>\n",
              "<table border=\"1\" class=\"dataframe\">\n",
              "  <thead>\n",
              "    <tr style=\"text-align: right;\">\n",
              "      <th></th>\n",
              "      <th>id</th>\n",
              "      <th>title</th>\n",
              "      <th>author</th>\n",
              "      <th>text</th>\n",
              "      <th>label</th>\n",
              "    </tr>\n",
              "  </thead>\n",
              "  <tbody>\n",
              "    <tr>\n",
              "      <th>0</th>\n",
              "      <td>0</td>\n",
              "      <td>House Dem Aide: We Didn’t Even See Comey’s Let...</td>\n",
              "      <td>Darrell Lucus</td>\n",
              "      <td>House Dem Aide: We Didn’t Even See Comey’s Let...</td>\n",
              "      <td>1</td>\n",
              "    </tr>\n",
              "    <tr>\n",
              "      <th>1</th>\n",
              "      <td>1</td>\n",
              "      <td>FLYNN: Hillary Clinton, Big Woman on Campus - ...</td>\n",
              "      <td>Daniel J. Flynn</td>\n",
              "      <td>Ever get the feeling your life circles the rou...</td>\n",
              "      <td>0</td>\n",
              "    </tr>\n",
              "    <tr>\n",
              "      <th>2</th>\n",
              "      <td>2</td>\n",
              "      <td>Why the Truth Might Get You Fired</td>\n",
              "      <td>Consortiumnews.com</td>\n",
              "      <td>Why the Truth Might Get You Fired October 29, ...</td>\n",
              "      <td>1</td>\n",
              "    </tr>\n",
              "    <tr>\n",
              "      <th>3</th>\n",
              "      <td>3</td>\n",
              "      <td>15 Civilians Killed In Single US Airstrike Hav...</td>\n",
              "      <td>Jessica Purkiss</td>\n",
              "      <td>Videos 15 Civilians Killed In Single US Airstr...</td>\n",
              "      <td>1</td>\n",
              "    </tr>\n",
              "    <tr>\n",
              "      <th>4</th>\n",
              "      <td>4</td>\n",
              "      <td>Iranian woman jailed for fictional unpublished...</td>\n",
              "      <td>Howard Portnoy</td>\n",
              "      <td>Print \\nAn Iranian woman has been sentenced to...</td>\n",
              "      <td>1</td>\n",
              "    </tr>\n",
              "  </tbody>\n",
              "</table>\n",
              "</div>"
            ],
            "text/plain": [
              "   id  ... label\n",
              "0   0  ...     1\n",
              "1   1  ...     0\n",
              "2   2  ...     1\n",
              "3   3  ...     1\n",
              "4   4  ...     1\n",
              "\n",
              "[5 rows x 5 columns]"
            ]
          },
          "metadata": {
            "tags": []
          },
          "execution_count": 5
        }
      ]
    },
    {
      "cell_type": "code",
      "metadata": {
        "colab": {
          "base_uri": "https://localhost:8080/",
          "height": 204
        },
        "id": "fHa2lnQlie22",
        "outputId": "599c3d8c-f2ac-4b8b-8d8a-8324e1ab96b1"
      },
      "source": [
        "#check bottom 5\n",
        "df.tail()"
      ],
      "execution_count": null,
      "outputs": [
        {
          "output_type": "execute_result",
          "data": {
            "text/html": [
              "<div>\n",
              "<style scoped>\n",
              "    .dataframe tbody tr th:only-of-type {\n",
              "        vertical-align: middle;\n",
              "    }\n",
              "\n",
              "    .dataframe tbody tr th {\n",
              "        vertical-align: top;\n",
              "    }\n",
              "\n",
              "    .dataframe thead th {\n",
              "        text-align: right;\n",
              "    }\n",
              "</style>\n",
              "<table border=\"1\" class=\"dataframe\">\n",
              "  <thead>\n",
              "    <tr style=\"text-align: right;\">\n",
              "      <th></th>\n",
              "      <th>id</th>\n",
              "      <th>title</th>\n",
              "      <th>author</th>\n",
              "      <th>text</th>\n",
              "      <th>label</th>\n",
              "    </tr>\n",
              "  </thead>\n",
              "  <tbody>\n",
              "    <tr>\n",
              "      <th>20795</th>\n",
              "      <td>20795</td>\n",
              "      <td>Rapper T.I.: Trump a ’Poster Child For White S...</td>\n",
              "      <td>Jerome Hudson</td>\n",
              "      <td>Rapper T. I. unloaded on black celebrities who...</td>\n",
              "      <td>0</td>\n",
              "    </tr>\n",
              "    <tr>\n",
              "      <th>20796</th>\n",
              "      <td>20796</td>\n",
              "      <td>N.F.L. Playoffs: Schedule, Matchups and Odds -...</td>\n",
              "      <td>Benjamin Hoffman</td>\n",
              "      <td>When the Green Bay Packers lost to the Washing...</td>\n",
              "      <td>0</td>\n",
              "    </tr>\n",
              "    <tr>\n",
              "      <th>20797</th>\n",
              "      <td>20797</td>\n",
              "      <td>Macy’s Is Said to Receive Takeover Approach by...</td>\n",
              "      <td>Michael J. de la Merced and Rachel Abrams</td>\n",
              "      <td>The Macy’s of today grew from the union of sev...</td>\n",
              "      <td>0</td>\n",
              "    </tr>\n",
              "    <tr>\n",
              "      <th>20798</th>\n",
              "      <td>20798</td>\n",
              "      <td>NATO, Russia To Hold Parallel Exercises In Bal...</td>\n",
              "      <td>Alex Ansary</td>\n",
              "      <td>NATO, Russia To Hold Parallel Exercises In Bal...</td>\n",
              "      <td>1</td>\n",
              "    </tr>\n",
              "    <tr>\n",
              "      <th>20799</th>\n",
              "      <td>20799</td>\n",
              "      <td>What Keeps the F-35 Alive</td>\n",
              "      <td>David Swanson</td>\n",
              "      <td>David Swanson is an author, activist, journa...</td>\n",
              "      <td>1</td>\n",
              "    </tr>\n",
              "  </tbody>\n",
              "</table>\n",
              "</div>"
            ],
            "text/plain": [
              "          id  ... label\n",
              "20795  20795  ...     0\n",
              "20796  20796  ...     0\n",
              "20797  20797  ...     0\n",
              "20798  20798  ...     1\n",
              "20799  20799  ...     1\n",
              "\n",
              "[5 rows x 5 columns]"
            ]
          },
          "metadata": {
            "tags": []
          },
          "execution_count": 6
        }
      ]
    },
    {
      "cell_type": "code",
      "metadata": {
        "colab": {
          "base_uri": "https://localhost:8080/"
        },
        "id": "c6iF6Cech2N7",
        "outputId": "5ec44495-8f11-43e9-f4f7-fe7f624c9348"
      },
      "source": [
        "#check length of data\n",
        "len(df)"
      ],
      "execution_count": null,
      "outputs": [
        {
          "output_type": "execute_result",
          "data": {
            "text/plain": [
              "20800"
            ]
          },
          "metadata": {
            "tags": []
          },
          "execution_count": 7
        }
      ]
    },
    {
      "cell_type": "code",
      "metadata": {
        "colab": {
          "base_uri": "https://localhost:8080/"
        },
        "id": "h8LXAGPxh_EX",
        "outputId": "28eadaba-8cf8-40a6-d5ad-8f5d105572db"
      },
      "source": [
        "#check no of rows and columns\n",
        "df.shape"
      ],
      "execution_count": null,
      "outputs": [
        {
          "output_type": "execute_result",
          "data": {
            "text/plain": [
              "(20800, 5)"
            ]
          },
          "metadata": {
            "tags": []
          },
          "execution_count": 8
        }
      ]
    },
    {
      "cell_type": "code",
      "metadata": {
        "colab": {
          "base_uri": "https://localhost:8080/"
        },
        "id": "rEBcB7ToiMej",
        "outputId": "de1c2f71-b39d-4a46-ed40-770ffdda69db"
      },
      "source": [
        "#check for null values\n",
        "df.isnull().sum()"
      ],
      "execution_count": null,
      "outputs": [
        {
          "output_type": "execute_result",
          "data": {
            "text/plain": [
              "id           0\n",
              "title      558\n",
              "author    1957\n",
              "text        39\n",
              "label        0\n",
              "dtype: int64"
            ]
          },
          "metadata": {
            "tags": []
          },
          "execution_count": 9
        }
      ]
    },
    {
      "cell_type": "code",
      "metadata": {
        "id": "nfi-Nt7siW7m"
      },
      "source": [
        "#make copy of df\n",
        "df_copy = df.copy()"
      ],
      "execution_count": null,
      "outputs": []
    },
    {
      "cell_type": "code",
      "metadata": {
        "id": "SWr_LpYkkdu1"
      },
      "source": [
        "#delete the null values\n",
        "df_copy.dropna(inplace=True)"
      ],
      "execution_count": null,
      "outputs": []
    },
    {
      "cell_type": "code",
      "metadata": {
        "colab": {
          "base_uri": "https://localhost:8080/"
        },
        "id": "J0K7DPK_k02r",
        "outputId": "215c57f1-0f48-4842-9697-11bb7feb85f0"
      },
      "source": [
        "#check if null values are still there\n",
        "df_copy.isnull().sum()"
      ],
      "execution_count": null,
      "outputs": [
        {
          "output_type": "execute_result",
          "data": {
            "text/plain": [
              "id        0\n",
              "title     0\n",
              "author    0\n",
              "text      0\n",
              "label     0\n",
              "dtype: int64"
            ]
          },
          "metadata": {
            "tags": []
          },
          "execution_count": 13
        }
      ]
    },
    {
      "cell_type": "code",
      "metadata": {
        "id": "jncpZmkDlDYj"
      },
      "source": [
        "#split into dependent and independent features\n",
        "x=df_copy.title\n",
        "y=df_copy.label"
      ],
      "execution_count": null,
      "outputs": []
    },
    {
      "cell_type": "code",
      "metadata": {
        "colab": {
          "base_uri": "https://localhost:8080/"
        },
        "id": "0IIjNnnZlTUp",
        "outputId": "616e4c9b-931b-43b5-9c26-e503e80305b1"
      },
      "source": [
        "#check unique values in y\n",
        "y.nunique()"
      ],
      "execution_count": null,
      "outputs": [
        {
          "output_type": "execute_result",
          "data": {
            "text/plain": [
              "2"
            ]
          },
          "metadata": {
            "tags": []
          },
          "execution_count": 16
        }
      ]
    },
    {
      "cell_type": "code",
      "metadata": {
        "id": "aEvE_Oc1lfNN"
      },
      "source": [
        "#reset the index for easy iteration \n",
        "df_copy.reset_index(inplace=True)"
      ],
      "execution_count": null,
      "outputs": []
    },
    {
      "cell_type": "markdown",
      "metadata": {
        "id": "3i9fYymSmQIl"
      },
      "source": [
        "Data Preprocessing"
      ]
    },
    {
      "cell_type": "code",
      "metadata": {
        "id": "8aY2JV61mAyk"
      },
      "source": [
        "st = PorterStemmer()\n",
        "corpus = []\n",
        "for i in range(0, len(df_copy)):\n",
        "    doc = re.sub('[^a-zA-Z]', ' ', df_copy['title'][i])\n",
        "    doc = doc.lower()\n",
        "    doc = doc.split()\n",
        "    \n",
        "    doc = [st.stem(word) for word in doc if not word in stopwords.words('english')]\n",
        "    doc = ' '.join(doc)\n",
        "    corpus.append(doc)"
      ],
      "execution_count": null,
      "outputs": []
    },
    {
      "cell_type": "code",
      "metadata": {
        "colab": {
          "base_uri": "https://localhost:8080/",
          "height": 35
        },
        "id": "e4pTN5-7mjWR",
        "outputId": "79381cff-1534-4546-f572-bf978e86b431"
      },
      "source": [
        "corpus[0]"
      ],
      "execution_count": null,
      "outputs": [
        {
          "output_type": "execute_result",
          "data": {
            "application/vnd.google.colaboratory.intrinsic+json": {
              "type": "string"
            },
            "text/plain": [
              "'hous dem aid even see comey letter jason chaffetz tweet'"
            ]
          },
          "metadata": {
            "tags": []
          },
          "execution_count": 24
        }
      ]
    },
    {
      "cell_type": "markdown",
      "metadata": {
        "id": "8w7WvsTEnAVK"
      },
      "source": [
        "One hot encoding"
      ]
    },
    {
      "cell_type": "code",
      "metadata": {
        "id": "jeXQ8jC4nKrW"
      },
      "source": [
        "vocabulary_size = 10000"
      ],
      "execution_count": null,
      "outputs": []
    },
    {
      "cell_type": "code",
      "metadata": {
        "colab": {
          "base_uri": "https://localhost:8080/"
        },
        "id": "56CDIK9um1v6",
        "outputId": "f81c9f73-7aa7-4641-c021-6962260e9d3b"
      },
      "source": [
        "onehot_vec=[one_hot(words,vocabulary_size)for words in corpus] \n",
        "onehot_vec[0]"
      ],
      "execution_count": null,
      "outputs": [
        {
          "output_type": "execute_result",
          "data": {
            "text/plain": [
              "[7216, 6617, 5920, 4807, 5572, 9181, 8812, 6613, 9627, 4925]"
            ]
          },
          "metadata": {
            "tags": []
          },
          "execution_count": 39
        }
      ]
    },
    {
      "cell_type": "code",
      "metadata": {
        "colab": {
          "base_uri": "https://localhost:8080/"
        },
        "id": "TVU4rbLzpBZb",
        "outputId": "4d48cc35-5f18-4c57-efc9-de2f5719b57f"
      },
      "source": [
        "#to choose sentence length\n",
        "max_length = max(onehot_vec)\n",
        "s=0\n",
        "for i in max_length:\n",
        "   s+=1\n",
        "print(s)\n"
      ],
      "execution_count": null,
      "outputs": [
        {
          "output_type": "stream",
          "text": [
            "10\n"
          ],
          "name": "stdout"
        }
      ]
    },
    {
      "cell_type": "markdown",
      "metadata": {
        "id": "5kRW2OqSn5W8"
      },
      "source": [
        "Word Embedding"
      ]
    },
    {
      "cell_type": "code",
      "metadata": {
        "colab": {
          "base_uri": "https://localhost:8080/"
        },
        "id": "Ev3c1rJUnTGI",
        "outputId": "5ccfce4a-4c77-49f8-a5ce-74e86967b40d"
      },
      "source": [
        "#maximum sentence length is 10 but i will go with 15\n",
        "sentence_length=15\n",
        "embedded_vec=pad_sequences(onehot_vec,padding='pre',maxlen=sentence_length)\n",
        "print(embedded_vec)"
      ],
      "execution_count": null,
      "outputs": [
        {
          "output_type": "stream",
          "text": [
            "[[   0    0    0 ... 6613 9627 4925]\n",
            " [   0    0    0 ... 1367 5148  402]\n",
            " [   0    0    0 ... 2258  855 3565]\n",
            " ...\n",
            " [   0    0    0 ... 6077 5157 4421]\n",
            " [   0    0    0 ... 3069 7523 7846]\n",
            " [   0    0    0 ... 2552 7129 7863]]\n"
          ],
          "name": "stdout"
        }
      ]
    },
    {
      "cell_type": "code",
      "metadata": {
        "id": "0HXQ64dFqGr1"
      },
      "source": [
        "#lets convert both x and y to array\n",
        "x=np.array(embedded_vec)\n",
        "y=np.array(y)"
      ],
      "execution_count": null,
      "outputs": []
    },
    {
      "cell_type": "code",
      "metadata": {
        "colab": {
          "base_uri": "https://localhost:8080/"
        },
        "id": "d8CYtujYq9ov",
        "outputId": "e6275772-1f3a-40ea-f596-96146fda5d3a"
      },
      "source": [
        "#check if they are equal\n",
        "print(len(x),len(y))"
      ],
      "execution_count": null,
      "outputs": [
        {
          "output_type": "stream",
          "text": [
            "18285 18285\n"
          ],
          "name": "stdout"
        }
      ]
    },
    {
      "cell_type": "markdown",
      "metadata": {
        "id": "zkvVOKgornCG"
      },
      "source": [
        "Split into train and test sets"
      ]
    },
    {
      "cell_type": "code",
      "metadata": {
        "id": "yB4X25c5rLET"
      },
      "source": [
        "x_train, x_test, y_train, y_test = train_test_split(x, y, test_size=0.3, random_state=20)"
      ],
      "execution_count": null,
      "outputs": []
    },
    {
      "cell_type": "markdown",
      "metadata": {
        "id": "sxoKrpNcr4sU"
      },
      "source": [
        "Model Building"
      ]
    },
    {
      "cell_type": "code",
      "metadata": {
        "colab": {
          "base_uri": "https://localhost:8080/"
        },
        "id": "-qgszG2qr0A9",
        "outputId": "1e9439e5-bb05-4aa9-9dad-6220a3e26297"
      },
      "source": [
        "## model\n",
        "embedding_vector_features=100\n",
        "model=Sequential()\n",
        "model.add(Embedding(vocabulary_size,embedding_vector_features,input_length=sentence_length))\n",
        "model.add(LSTM(100))\n",
        "model.add(Dense(1,activation='sigmoid'))\n",
        "model.compile(loss='binary_crossentropy',optimizer='adam',metrics=['accuracy'])\n",
        "print(model.summary())"
      ],
      "execution_count": null,
      "outputs": [
        {
          "output_type": "stream",
          "text": [
            "Model: \"sequential\"\n",
            "_________________________________________________________________\n",
            "Layer (type)                 Output Shape              Param #   \n",
            "=================================================================\n",
            "embedding (Embedding)        (None, 15, 100)           1000000   \n",
            "_________________________________________________________________\n",
            "lstm (LSTM)                  (None, 100)               80400     \n",
            "_________________________________________________________________\n",
            "dense (Dense)                (None, 1)                 101       \n",
            "=================================================================\n",
            "Total params: 1,080,501\n",
            "Trainable params: 1,080,501\n",
            "Non-trainable params: 0\n",
            "_________________________________________________________________\n",
            "None\n"
          ],
          "name": "stdout"
        }
      ]
    },
    {
      "cell_type": "code",
      "metadata": {
        "colab": {
          "base_uri": "https://localhost:8080/"
        },
        "id": "q0A_xo8usPdM",
        "outputId": "6bbf0bca-81d6-4421-c7b9-db48e28aef95"
      },
      "source": [
        "### training the data\n",
        "model.fit(x_train,y_train,validation_data=(x_test,y_test),epochs=10,batch_size=50)"
      ],
      "execution_count": null,
      "outputs": [
        {
          "output_type": "stream",
          "text": [
            "Epoch 1/10\n",
            "256/256 [==============================] - 8s 32ms/step - loss: 1.3199e-05 - accuracy: 1.0000 - val_loss: 0.7725 - val_accuracy: 0.9127\n",
            "Epoch 2/10\n",
            "256/256 [==============================] - 8s 32ms/step - loss: 1.0797e-05 - accuracy: 1.0000 - val_loss: 0.7794 - val_accuracy: 0.9081\n",
            "Epoch 3/10\n",
            "256/256 [==============================] - 8s 32ms/step - loss: 8.8334e-06 - accuracy: 1.0000 - val_loss: 0.7843 - val_accuracy: 0.9087\n",
            "Epoch 4/10\n",
            "256/256 [==============================] - 8s 32ms/step - loss: 7.3432e-06 - accuracy: 1.0000 - val_loss: 0.8002 - val_accuracy: 0.9098\n",
            "Epoch 5/10\n",
            "256/256 [==============================] - 8s 32ms/step - loss: 5.9326e-06 - accuracy: 1.0000 - val_loss: 0.8286 - val_accuracy: 0.9096\n",
            "Epoch 6/10\n",
            "256/256 [==============================] - 8s 32ms/step - loss: 5.3991e-06 - accuracy: 1.0000 - val_loss: 0.8231 - val_accuracy: 0.9087\n",
            "Epoch 7/10\n",
            "256/256 [==============================] - 8s 32ms/step - loss: 4.6512e-06 - accuracy: 1.0000 - val_loss: 0.8401 - val_accuracy: 0.9092\n",
            "Epoch 8/10\n",
            "256/256 [==============================] - 8s 32ms/step - loss: 3.8024e-06 - accuracy: 1.0000 - val_loss: 0.8445 - val_accuracy: 0.9087\n",
            "Epoch 9/10\n",
            "256/256 [==============================] - 8s 32ms/step - loss: 3.2667e-06 - accuracy: 1.0000 - val_loss: 0.8628 - val_accuracy: 0.9081\n",
            "Epoch 10/10\n",
            "256/256 [==============================] - 8s 32ms/step - loss: 2.8416e-06 - accuracy: 1.0000 - val_loss: 0.8679 - val_accuracy: 0.9079\n"
          ],
          "name": "stdout"
        },
        {
          "output_type": "execute_result",
          "data": {
            "text/plain": [
              "<tensorflow.python.keras.callbacks.History at 0x7efe0b5b8150>"
            ]
          },
          "metadata": {
            "tags": []
          },
          "execution_count": 56
        }
      ]
    },
    {
      "cell_type": "code",
      "metadata": {
        "id": "zIge7DUyssPj"
      },
      "source": [
        "#it seems to overfit so lets add a dropout layer\n",
        "## dropout\n",
        "embedding_vector_features=100\n",
        "model=Sequential()\n",
        "model.add(Embedding(vocabulary_size,embedding_vector_features,input_length=sentence_length))\n",
        "model.add(Dropout(0.5))\n",
        "model.add(LSTM(100))\n",
        "model.add(Dropout(0.5))\n",
        "model.add(Dense(1,activation='sigmoid'))\n",
        "model.compile(loss='binary_crossentropy',optimizer='adam',metrics=['accuracy'])"
      ],
      "execution_count": null,
      "outputs": []
    },
    {
      "cell_type": "code",
      "metadata": {
        "colab": {
          "base_uri": "https://localhost:8080/"
        },
        "id": "zv0N5teEuYjj",
        "outputId": "14b5b8bb-1619-41d8-dc36-c6c9b28ab033"
      },
      "source": [
        "### training the data after applying dropout\n",
        "model.fit(x_train,y_train,validation_data=(x_test,y_test),epochs=10,batch_size=50)"
      ],
      "execution_count": null,
      "outputs": [
        {
          "output_type": "stream",
          "text": [
            "Epoch 1/10\n",
            "256/256 [==============================] - 11s 36ms/step - loss: 0.4203 - accuracy: 0.8055 - val_loss: 0.1857 - val_accuracy: 0.9205\n",
            "Epoch 2/10\n",
            "256/256 [==============================] - 9s 33ms/step - loss: 0.1354 - accuracy: 0.9489 - val_loss: 0.1932 - val_accuracy: 0.9247\n",
            "Epoch 3/10\n",
            "256/256 [==============================] - 8s 33ms/step - loss: 0.0943 - accuracy: 0.9644 - val_loss: 0.2376 - val_accuracy: 0.9254\n",
            "Epoch 4/10\n",
            "256/256 [==============================] - 9s 33ms/step - loss: 0.0661 - accuracy: 0.9764 - val_loss: 0.2227 - val_accuracy: 0.9236\n",
            "Epoch 5/10\n",
            "256/256 [==============================] - 9s 33ms/step - loss: 0.0440 - accuracy: 0.9864 - val_loss: 0.2431 - val_accuracy: 0.9216\n",
            "Epoch 6/10\n",
            "256/256 [==============================] - 9s 33ms/step - loss: 0.0283 - accuracy: 0.9918 - val_loss: 0.3085 - val_accuracy: 0.9202\n",
            "Epoch 7/10\n",
            "256/256 [==============================] - 9s 33ms/step - loss: 0.0198 - accuracy: 0.9945 - val_loss: 0.3247 - val_accuracy: 0.9196\n",
            "Epoch 8/10\n",
            "256/256 [==============================] - 9s 34ms/step - loss: 0.0159 - accuracy: 0.9955 - val_loss: 0.3738 - val_accuracy: 0.9151\n",
            "Epoch 9/10\n",
            "256/256 [==============================] - 9s 34ms/step - loss: 0.0094 - accuracy: 0.9964 - val_loss: 0.3619 - val_accuracy: 0.9178\n",
            "Epoch 10/10\n",
            "256/256 [==============================] - 9s 33ms/step - loss: 0.0123 - accuracy: 0.9955 - val_loss: 0.4224 - val_accuracy: 0.9182\n"
          ],
          "name": "stdout"
        },
        {
          "output_type": "execute_result",
          "data": {
            "text/plain": [
              "<tensorflow.python.keras.callbacks.History at 0x7efe0c4b0190>"
            ]
          },
          "metadata": {
            "tags": []
          },
          "execution_count": 66
        }
      ]
    },
    {
      "cell_type": "code",
      "metadata": {
        "colab": {
          "base_uri": "https://localhost:8080/"
        },
        "id": "yzh0doYkv-Gl",
        "outputId": "91e19921-da19-4be2-a8d2-615583c55376"
      },
      "source": [
        "y_pred"
      ],
      "execution_count": null,
      "outputs": [
        {
          "output_type": "execute_result",
          "data": {
            "text/plain": [
              "array([1], dtype=int32)"
            ]
          },
          "metadata": {
            "tags": []
          },
          "execution_count": 81
        }
      ]
    },
    {
      "cell_type": "markdown",
      "metadata": {
        "id": "TXO8BjYftmAM"
      },
      "source": [
        "Evaluate performance"
      ]
    },
    {
      "cell_type": "code",
      "metadata": {
        "colab": {
          "base_uri": "https://localhost:8080/"
        },
        "id": "aflJOJeAtk3V",
        "outputId": "b95d2430-f51a-4d44-e74f-27932177686a"
      },
      "source": [
        "y_pred=(model.predict(x_test) > 0.5).astype(\"int32\")\n",
        "print(confusion_matrix(y_test,y_pred))\n",
        "print('Accuracy:{}'.format(accuracy_score(y_test,y_pred)))"
      ],
      "execution_count": null,
      "outputs": [
        {
          "output_type": "stream",
          "text": [
            "[[2791  266]\n",
            " [ 183 2246]]\n",
            "Accuracy:0.9181553044112286\n"
          ],
          "name": "stdout"
        }
      ]
    },
    {
      "cell_type": "code",
      "metadata": {
        "id": "SYcsGpfS0nW0"
      },
      "source": [
        ""
      ],
      "execution_count": null,
      "outputs": []
    }
  ]
}